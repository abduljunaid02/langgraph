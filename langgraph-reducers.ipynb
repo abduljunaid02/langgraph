{
 "cells": [
  {
   "cell_type": "markdown",
   "id": "cac4f6a5",
   "metadata": {},
   "source": [
    "### Reducers"
   ]
  },
  {
   "cell_type": "code",
   "execution_count": 53,
   "id": "9236c5f4",
   "metadata": {},
   "outputs": [],
   "source": [
    "from typing import TypedDict, Annotated\n",
    "from langgraph.graph import StateGraph, START, END\n",
    "\n",
    "# This is just a simple class that is of typeDict\n",
    "# but here the parameters marks is \"Annotated\" to return avg when two marks are given to it \n",
    "class Student(TypedDict):\n",
    "    name : Annotated[str, lambda a, b : b]\n",
    "    marks : Annotated[int, lambda x, y : (x+y)/2]\n",
    "\n",
    "builder = StateGraph(Student)\n",
    "\n"
   ]
  },
  {
   "cell_type": "code",
   "execution_count": 54,
   "id": "3130e628",
   "metadata": {},
   "outputs": [],
   "source": [
    "# Defining functions\n",
    "\n",
    "def subtract_marks(state : Student):\n",
    "    state[\"marks\"] = state[\"marks\"] - 5\n",
    "    print(\"subtract_marks\", state)\n",
    "    return state\n",
    "\n",
    "def cap_name(state : Student):\n",
    "    state[\"name\"] = state[\"name\"].upper()\n",
    "    return state\n",
    "\n",
    "def add_five_marks(state: Student):\n",
    "    state[\"marks\"] = state[\"marks\"] + 5\n",
    "    print(\"add_five_marks\", state)\n",
    "    return state\n",
    "\n",
    "def double_marks(state: Student):\n",
    "    state[\"marks\"] = state[\"marks\"]*2\n",
    "    print(\"double_marks\", state)\n",
    "    return state"
   ]
  },
  {
   "cell_type": "code",
   "execution_count": 55,
   "id": "11dc9be4",
   "metadata": {},
   "outputs": [
    {
     "data": {
      "text/plain": [
       "<langgraph.graph.state.StateGraph at 0x1a65b054770>"
      ]
     },
     "execution_count": 55,
     "metadata": {},
     "output_type": "execute_result"
    }
   ],
   "source": [
    "#nodes\n",
    "\n",
    "builder.add_node(\"subtract_marks\", subtract_marks)\n",
    "builder.add_node(\"cap_name\", cap_name)\n",
    "builder.add_node(\"add_five_marks\", add_five_marks)\n",
    "builder.add_node(\"double_marks\", double_marks)\n",
    "\n"
   ]
  },
  {
   "cell_type": "code",
   "execution_count": 56,
   "id": "da97c54e",
   "metadata": {},
   "outputs": [
    {
     "data": {
      "text/plain": [
       "<langgraph.graph.state.StateGraph at 0x1a65b054770>"
      ]
     },
     "execution_count": 56,
     "metadata": {},
     "output_type": "execute_result"
    }
   ],
   "source": [
    "#Edges\n",
    "\n",
    "builder.add_edge(START, \"cap_name\")\n",
    "builder.add_edge(\"cap_name\", \"subtract_marks\")\n",
    "builder.add_edge(\"subtract_marks\", \"add_five_marks\")\n",
    "builder.add_edge(\"subtract_marks\", \"double_marks\")\n",
    "builder.add_edge(\"add_five_marks\", END)\n",
    "builder.add_edge(\"double_marks\", END)"
   ]
  },
  {
   "cell_type": "code",
   "execution_count": 57,
   "id": "b08399bb",
   "metadata": {},
   "outputs": [],
   "source": [
    "graphw = builder.compile()"
   ]
  },
  {
   "cell_type": "code",
   "execution_count": 59,
   "id": "745970a4",
   "metadata": {},
   "outputs": [
    {
     "name": "stdout",
     "output_type": "stream",
     "text": [
      "subtract_marks {'name': 'DUSSA', 'marks': 45.0}\n",
      "add_five_marks {'name': 'DUSSA', 'marks': 52.5}\n",
      "double_marks {'name': 'DUSSA', 'marks': 95.0}\n"
     ]
    },
    {
     "data": {
      "text/plain": [
       "{'name': 'DUSSA', 'marks': 72.5}"
      ]
     },
     "execution_count": 59,
     "metadata": {},
     "output_type": "execute_result"
    }
   ],
   "source": [
    "graphw.invoke({\n",
    "    \n",
    "    \"name\" : \"dussa\",\n",
    "    \"marks\" : 100\n",
    "})"
   ]
  },
  {
   "cell_type": "code",
   "execution_count": null,
   "id": "76bc7213",
   "metadata": {},
   "outputs": [],
   "source": []
  }
 ],
 "metadata": {
  "kernelspec": {
   "display_name": "Python 3",
   "language": "python",
   "name": "python3"
  },
  "language_info": {
   "codemirror_mode": {
    "name": "ipython",
    "version": 3
   },
   "file_extension": ".py",
   "mimetype": "text/x-python",
   "name": "python",
   "nbconvert_exporter": "python",
   "pygments_lexer": "ipython3",
   "version": "3.12.4"
  }
 },
 "nbformat": 4,
 "nbformat_minor": 5
}
