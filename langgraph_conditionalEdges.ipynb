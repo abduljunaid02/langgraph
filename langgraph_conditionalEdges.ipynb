{
 "cells": [
  {
   "cell_type": "markdown",
   "id": "d7b94501",
   "metadata": {},
   "source": [
    "### Conditional Edges"
   ]
  },
  {
   "cell_type": "code",
   "execution_count": 22,
   "id": "2e1f5c17",
   "metadata": {},
   "outputs": [],
   "source": [
    "from typing import TypedDict\n",
    "from langgraph.graph import StateGraph\n",
    "\n",
    "\n",
    "class myState(TypedDict):\n",
    "    name : str\n",
    "    age : int\n",
    "    city : str\n",
    "\n",
    "junaid = StateGraph(myState)\n",
    "\n",
    "def ask_name(myState):\n",
    "    print(\"Peru endi anna meedi?\")\n",
    "    name_input = input(\"\")\n",
    "    return {\"name\": name_input}\n",
    "\n",
    "def ask_age(myState):\n",
    "    print(\"Age entha manadi?\")\n",
    "    age_input = input(\"\")\n",
    "    return {\"age\": age_input}\n",
    "\n",
    "def ask_city(myState):\n",
    "    print(\"ehooru manadi?\")\n",
    "    city_input = input(\"\")\n",
    "    return {\"city\": city_input}\n",
    "\n",
    "def show_age(myState):\n",
    "    print(f\"{myState[\"name\"]} from {myState[\"city\"]}. You are sweet {myState[\"age\"]}\")\n",
    "\n",
    "\n",
    "def hide_age(myState):\n",
    "    print(f\"{myState[\"name\"]} from {myState[\"city\"]}. Age oddana. I am Humble request\")\n",
    "\n",
    "def age_display_condition(myState):\n",
    "    if int(myState[\"age\"]) < 30:\n",
    "        return \"show_age\"\n",
    "    else:\n",
    "        return \"hide_age\"\n",
    "\n",
    "\n"
   ]
  },
  {
   "cell_type": "code",
   "execution_count": 23,
   "id": "aed96c20",
   "metadata": {},
   "outputs": [
    {
     "data": {
      "text/plain": [
       "<langgraph.graph.state.StateGraph at 0x1bec5d40b00>"
      ]
     },
     "execution_count": 23,
     "metadata": {},
     "output_type": "execute_result"
    }
   ],
   "source": [
    "junaid.add_node(\"ask_name\", ask_name)\n",
    "junaid.add_node(\"ask_city\", ask_city)\n",
    "junaid.add_node(\"ask_age\", ask_age)\n",
    "junaid.add_node(\"show_age\", show_age)\n",
    "junaid.add_node(\"hide_age\", hide_age)\n",
    "junaid.add_node(\"age_display_condition\", age_display_condition)"
   ]
  },
  {
   "cell_type": "code",
   "execution_count": 24,
   "id": "4370a449",
   "metadata": {},
   "outputs": [
    {
     "data": {
      "text/plain": [
       "<langgraph.graph.state.StateGraph at 0x1bec5d40b00>"
      ]
     },
     "execution_count": 24,
     "metadata": {},
     "output_type": "execute_result"
    }
   ],
   "source": [
    "junaid.add_edge(\"ask_name\", \"ask_city\")\n",
    "junaid.add_edge(\"ask_city\", \"ask_age\")\n",
    "junaid.add_conditional_edges(\"ask_age\",\n",
    "                              age_display_condition,\n",
    "                              {\n",
    "                                  \"show_age\": \"show_age\",\n",
    "                                  \"hide_age\" : \"hide_age\"\n",
    "                              })\n",
    "junaid.set_entry_point(\"ask_name\")"
   ]
  },
  {
   "cell_type": "code",
   "execution_count": 26,
   "id": "8983e7e8",
   "metadata": {},
   "outputs": [
    {
     "name": "stdout",
     "output_type": "stream",
     "text": [
      "Peru endi anna meedi?\n",
      "ehooru manadi?\n",
      "Age entha manadi?\n",
      "Junaid from Hyd. Age oddana. I am Humble request\n"
     ]
    },
    {
     "data": {
      "text/plain": [
       "{'name': 'Junaid', 'age': '32', 'city': 'Hyd'}"
      ]
     },
     "execution_count": 26,
     "metadata": {},
     "output_type": "execute_result"
    }
   ],
   "source": [
    "graph = junaid.compile()\n",
    "graph.invoke({})"
   ]
  },
  {
   "cell_type": "code",
   "execution_count": null,
   "id": "a964e992",
   "metadata": {},
   "outputs": [],
   "source": []
  }
 ],
 "metadata": {
  "kernelspec": {
   "display_name": "Python 3",
   "language": "python",
   "name": "python3"
  },
  "language_info": {
   "codemirror_mode": {
    "name": "ipython",
    "version": 3
   },
   "file_extension": ".py",
   "mimetype": "text/x-python",
   "name": "python",
   "nbconvert_exporter": "python",
   "pygments_lexer": "ipython3",
   "version": "3.12.4"
  }
 },
 "nbformat": 4,
 "nbformat_minor": 5
}
