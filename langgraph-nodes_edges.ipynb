{
 "cells": [
  {
   "cell_type": "markdown",
   "id": "899fe763",
   "metadata": {},
   "source": [
    "#### Learnt what langgraph state, stategraph and typedDict is\n"
   ]
  },
  {
   "cell_type": "markdown",
   "id": "e4dce5de",
   "metadata": {},
   "source": [
    "#### What nodes and edges are and how data flows from one node to the other. "
   ]
  },
  {
   "cell_type": "code",
   "execution_count": 1,
   "id": "c933e4c3",
   "metadata": {},
   "outputs": [
    {
     "name": "stderr",
     "output_type": "stream",
     "text": [
      "ERROR: pip's dependency resolver does not currently take into account all the packages that are installed. This behaviour is the source of the following dependency conflicts.\n",
      "langchain 0.3.25 requires langsmith<0.4,>=0.1.17, but you have langsmith 0.4.30 which is incompatible.\n",
      "\n",
      "[notice] A new release of pip is available: 24.0 -> 25.2\n",
      "[notice] To update, run: python.exe -m pip install --upgrade pip\n"
     ]
    }
   ],
   "source": [
    "!pip install langgraph -q"
   ]
  },
  {
   "cell_type": "code",
   "execution_count": 16,
   "id": "605f5903",
   "metadata": {},
   "outputs": [
    {
     "name": "stdout",
     "output_type": "stream",
     "text": [
      "Hey! What are you called Bro?\n"
     ]
    },
    {
     "name": "stdout",
     "output_type": "stream",
     "text": [
      "How old Bro?\n",
      "e ooru manadi?\n",
      "Namaste Junaid anna! Meerku 30 vellu ochinayi. Meeru Hyd nunchi vachharu.\n"
     ]
    }
   ],
   "source": [
    "from langgraph.graph import StateGraph\n",
    "from typing import TypedDict\n",
    "\n",
    "\n",
    "class MyState(TypedDict):\n",
    "    name : str\n",
    "    age : int\n",
    "    city : str\n",
    "\n",
    "graph = StateGraph(MyState)\n",
    "\n",
    "#DEFINE THE NODES. These are nodes or functions. \n",
    "\n",
    "def ask_name(state : MyState):\n",
    "    print(\"Hey! What are you called Bro?\")\n",
    "    name_input = input(\"\")\n",
    "    return {\"name\": name_input}\n",
    "\n",
    "def ask_age(state: MyState):\n",
    "    print(\"How old Bro?\")\n",
    "    age_input = input(\"\")\n",
    "    return {\"age\": age_input}\n",
    "\n",
    "def ask_city(state: MyState):\n",
    "    print(\"e ooru manadi?\")\n",
    "    city_input = input(\"\")\n",
    "    return {\"city\": city_input}\n",
    "\n",
    "def greet(state: MyState):\n",
    "    print(f\"Namaste {state['name']} anna! Meerku {state['age']} vellu ochinayi. \"\n",
    "          f\"Meeru {state['city']} nunchi vachharu.\")\n",
    "    return state\n",
    "\n",
    "\n",
    "#DECLARE THEM AS NODES HERE- FIRST WE DEFINED: NOW WE DECLARE THEM AS NODES HERE\n",
    "\n",
    "graph.add_node(\"ask_name\", ask_name)\n",
    "graph.add_node(\"ask_age\", ask_age)\n",
    "graph.add_node(\"ask_city\", ask_city)\n",
    "graph.add_node(\"greet\", greet)\n",
    "\n",
    "#CONNECT THESE NODES. THIS IS THE FLOW OF THE GRAPH\n",
    "\n",
    "graph.add_edge(\"ask_name\", \"ask_age\")\n",
    "graph.add_edge(\"ask_age\", \"ask_city\")\n",
    "graph.add_edge(\"ask_city\", \"greet\")\n",
    "graph.set_entry_point(\"ask_name\")\n",
    "\n",
    "builder = graph.compile()\n",
    "flow = builder.invoke({})"
   ]
  },
  {
   "cell_type": "markdown",
   "id": "e574161f",
   "metadata": {},
   "source": [
    "####Steps ::::: \n",
    "- Define a graph - meaning a dict type class that will have parameters and their types that will pass through the nodes\n",
    "- Declare it as a Stategraph \n",
    "- define functions\n",
    "- declare them as nodes -> add_node\n",
    "- Connect them -> add_edge\n",
    "- compile\n",
    "-invoke"
   ]
  },
  {
   "cell_type": "code",
   "execution_count": null,
   "id": "e7403c2a",
   "metadata": {},
   "outputs": [],
   "source": []
  },
  {
   "cell_type": "code",
   "execution_count": null,
   "id": "e0f75251",
   "metadata": {},
   "outputs": [],
   "source": []
  }
 ],
 "metadata": {
  "kernelspec": {
   "display_name": "Python 3",
   "language": "python",
   "name": "python3"
  },
  "language_info": {
   "codemirror_mode": {
    "name": "ipython",
    "version": 3
   },
   "file_extension": ".py",
   "mimetype": "text/x-python",
   "name": "python",
   "nbconvert_exporter": "python",
   "pygments_lexer": "ipython3",
   "version": "3.12.4"
  }
 },
 "nbformat": 4,
 "nbformat_minor": 5
}
