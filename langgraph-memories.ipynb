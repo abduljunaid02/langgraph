{
 "cells": [
  {
   "cell_type": "markdown",
   "id": "aa35627a",
   "metadata": {},
   "source": [
    "## Memories"
   ]
  },
  {
   "cell_type": "markdown",
   "id": "b076ec17",
   "metadata": {},
   "source": [
    "- learnt about three different memories in Langchain"
   ]
  },
  {
   "cell_type": "code",
   "execution_count": null,
   "id": "4a9f6277",
   "metadata": {},
   "outputs": [],
   "source": [
    "import warnings\n",
    "warnings.filterwarnings(\"ignore\")\n",
    "import os\n",
    "from langchain_openai.llms import OpenAI\n",
    "from langchain.memory import ConversationBufferMemory, ConversationSummaryMemory, ConversationTokenBufferMemory\n",
    "from langchain.chains import ConversationChain\n",
    "\n",
    "llm = OpenAI(model=\"gpt-4o-mini\", api_key=\"\")\n",
    "\n"
   ]
  },
  {
   "cell_type": "markdown",
   "id": "366272f9",
   "metadata": {},
   "source": [
    "### COnversation Buffer Memory\n",
    "\n",
    "- Just stores all the messages as it is without any filteration or applying any other extra functionality"
   ]
  },
  {
   "cell_type": "code",
   "execution_count": 14,
   "id": "bb5fa813",
   "metadata": {},
   "outputs": [],
   "source": [
    "memory_cbm = ConversationBufferMemory()\n",
    "\n",
    "convo = ConversationChain(\n",
    "    llm = llm,\n",
    "    memory = memory_cbm,\n",
    "    verbose = True\n",
    ")\n",
    "\n"
   ]
  },
  {
   "cell_type": "code",
   "execution_count": 16,
   "id": "ee56afa9",
   "metadata": {},
   "outputs": [
    {
     "name": "stdout",
     "output_type": "stream",
     "text": [
      "\n",
      "\n",
      "\u001b[1m> Entering new ConversationChain chain...\u001b[0m\n",
      "Prompt after formatting:\n",
      "\u001b[32;1m\u001b[1;3mThe following is a friendly conversation between a human and an AI. The AI is talkative and provides lots of specific details from its context. If the AI does not know the answer to a question, it truthfully says it does not know.\n",
      "\n",
      "Current conversation:\n",
      "\n",
      "Human: Hey! This is Junaid!\n",
      "AI:\u001b[0m\n",
      "\n",
      "\u001b[1m> Finished chain.\u001b[0m\n"
     ]
    },
    {
     "data": {
      "text/plain": [
       "\" Hi Junaid! It's great to meet you! How are you doing today? Anything exciting happening in your life right now? I'm here to chat and help with anything you might need!\""
      ]
     },
     "execution_count": 16,
     "metadata": {},
     "output_type": "execute_result"
    }
   ],
   "source": [
    "convo.predict(input = \"Hey! This is Junaid!\")"
   ]
  },
  {
   "cell_type": "code",
   "execution_count": 19,
   "id": "8549a645",
   "metadata": {},
   "outputs": [
    {
     "name": "stdout",
     "output_type": "stream",
     "text": [
      "\n",
      "\n",
      "\u001b[1m> Entering new ConversationChain chain...\u001b[0m\n",
      "Prompt after formatting:\n",
      "\u001b[32;1m\u001b[1;3mThe following is a friendly conversation between a human and an AI. The AI is talkative and provides lots of specific details from its context. If the AI does not know the answer to a question, it truthfully says it does not know.\n",
      "\n",
      "Current conversation:\n",
      "Human: Hey! This is Junaid!\n",
      "AI:  Hi Junaid! It's great to meet you! How are you doing today? Anything exciting happening in your life right now? I'm here to chat and help with anything you might need!\n",
      "Human: I want to know what my name means\n",
      "AI:\u001b[0m\n",
      "\n",
      "\u001b[1m> Finished chain.\u001b[0m\n"
     ]
    },
    {
     "data": {
      "text/plain": [
       "' That\\'s a great question! The name Junaid is of Arabic origin and it means \"soldier\" or \"warrior.\" It\\'s a strong and powerful name! It is also associated with a famous Islamic saint, Junaid al-Baghdadi, who was a prominent theologian and mystic. Do you have any other questions about names or anything else? I\\'m here to help!'"
      ]
     },
     "execution_count": 19,
     "metadata": {},
     "output_type": "execute_result"
    }
   ],
   "source": [
    "convo.predict(input= \"I want to know what my name means\")"
   ]
  },
  {
   "cell_type": "code",
   "execution_count": 20,
   "id": "7504984e",
   "metadata": {},
   "outputs": [
    {
     "data": {
      "text/plain": [
       "'Human: Hey! This is Junaid!\\nAI:  Hi Junaid! It\\'s great to meet you! How are you doing today? Anything exciting happening in your life right now? I\\'m here to chat and help with anything you might need!\\nHuman: I want to know what my name means\\nAI:  That\\'s a great question! The name Junaid is of Arabic origin and it means \"soldier\" or \"warrior.\" It\\'s a strong and powerful name! It is also associated with a famous Islamic saint, Junaid al-Baghdadi, who was a prominent theologian and mystic. Do you have any other questions about names or anything else? I\\'m here to help!'"
      ]
     },
     "execution_count": 20,
     "metadata": {},
     "output_type": "execute_result"
    }
   ],
   "source": [
    "memory_cbm.buffer"
   ]
  },
  {
   "cell_type": "markdown",
   "id": "a6a9ae44",
   "metadata": {},
   "source": [
    "### Conversation Summary Memory"
   ]
  },
  {
   "cell_type": "code",
   "execution_count": 22,
   "id": "7614ec34",
   "metadata": {},
   "outputs": [],
   "source": [
    "memory_csm = ConversationSummaryMemory(llm = llm)\n",
    "\n",
    "convo_csm = ConversationChain(\n",
    "    llm = llm, \n",
    "    memory = memory_csm,\n",
    "    verbose = True\n",
    ")"
   ]
  },
  {
   "cell_type": "code",
   "execution_count": 24,
   "id": "7c46153d",
   "metadata": {},
   "outputs": [
    {
     "name": "stdout",
     "output_type": "stream",
     "text": [
      "\n",
      "\n",
      "\u001b[1m> Entering new ConversationChain chain...\u001b[0m\n",
      "Prompt after formatting:\n",
      "\u001b[32;1m\u001b[1;3mThe following is a friendly conversation between a human and an AI. The AI is talkative and provides lots of specific details from its context. If the AI does not know the answer to a question, it truthfully says it does not know.\n",
      "\n",
      "Current conversation:\n",
      " \n",
      "The human asks for brief ideas of Socialism. The AI explains that Socialism is a political and economic ideology advocating for collective or government ownership of production and distribution. Key ideas include collective ownership to reduce inequality, economic planning prioritizing social welfare, social welfare programs for basic needs, emphasis on workers' rights, reduction of class distinctions, and international solidarity.\n",
      "Human: What are the brief ideas of Socialism?\n",
      "AI:\u001b[0m\n",
      "\n",
      "\u001b[1m> Finished chain.\u001b[0m\n"
     ]
    },
    {
     "data": {
      "text/plain": [
       "\" Socialism is a political and economic ideology that advocates for collective or government ownership of the means of production and distribution. Some key ideas include:\\n\\n1. Collective Ownership: The means of production (like factories and land) are owned collectively by the community or the state, which aims to reduce inequality.\\n\\n2. Economic Planning: The economy is planned and managed to prioritize social welfare rather than profit maximization.\\n\\n3. Social Welfare Programs: The state often provides essential services, such as healthcare, education, and housing, to ensure that basic needs are met for all citizens.\\n\\n4. Workers' Rights: Socialism emphasizes the rights of workers, including fair wages, safe working conditions, and the right to unionize.\\n\\n5. Reduction of Class Distinctions: The goal is to create a more egalitarian society by reducing the gap between the rich and the poor.\\n\\n6. International Solidarity: Socialism promotes cooperation and solidarity among workers and nations, advocating for social justice on a global scale. \\n\\nIf you have any more questions about Socialism or related topics, feel free to ask!\""
      ]
     },
     "execution_count": 24,
     "metadata": {},
     "output_type": "execute_result"
    }
   ],
   "source": [
    "convo_csm.predict(input = \"What are the brief ideas of Socialism?\")\n"
   ]
  },
  {
   "cell_type": "code",
   "execution_count": 25,
   "id": "1b741c68",
   "metadata": {},
   "outputs": [
    {
     "name": "stdout",
     "output_type": "stream",
     "text": [
      "\n",
      "\n",
      "\u001b[1m> Entering new ConversationChain chain...\u001b[0m\n",
      "Prompt after formatting:\n",
      "\u001b[32;1m\u001b[1;3mThe following is a friendly conversation between a human and an AI. The AI is talkative and provides lots of specific details from its context. If the AI does not know the answer to a question, it truthfully says it does not know.\n",
      "\n",
      "Current conversation:\n",
      " \n",
      "The human asks for brief ideas of Socialism. The AI explains that Socialism is a political and economic ideology advocating for collective or government ownership of the means of production and distribution. Key ideas include collective ownership to reduce inequality, economic planning prioritizing social welfare, social welfare programs for basic needs, emphasis on workers' rights, reduction of class distinctions, and international solidarity. The AI further elaborates that socialism promotes cooperation among workers and nations for social justice on a global scale and invites further questions on the topic. \n",
      "Human: How different is it from Democracy?\n",
      "AI:\u001b[0m\n",
      "\n",
      "\u001b[1m> Finished chain.\u001b[0m\n"
     ]
    },
    {
     "data": {
      "text/plain": [
       "' Great question! While Socialism and Democracy can coexist, they are fundamentally different concepts. Democracy primarily refers to a system of government where power is vested in the people, typically through voting and free elections. It emphasizes individual rights, political freedoms, and the rule of law. \\n\\nOn the other hand, Socialism is more focused on economic systems and the collective ownership of resources. In a Socialist system, the emphasis is on reducing inequality and providing for the common good, which may sometimes require government intervention in the economy. \\n\\nSo, while Democracy emphasizes political structures and processes, Socialism centers around economic equality and social welfare. They can work together, though, as seen in some countries that combine democratic governance with socialist policies, often referred to as democratic socialism. Would you like to know more about how they can coexist?'"
      ]
     },
     "execution_count": 25,
     "metadata": {},
     "output_type": "execute_result"
    }
   ],
   "source": [
    "convo_csm.predict(input= \"How different is it from Democracy?\")"
   ]
  },
  {
   "cell_type": "code",
   "execution_count": 26,
   "id": "add0109b",
   "metadata": {},
   "outputs": [
    {
     "data": {
      "text/plain": [
       "\" \\nThe human asks for brief ideas of Socialism. The AI explains that Socialism is a political and economic ideology advocating for collective or government ownership of the means of production and distribution. Key ideas include collective ownership to reduce inequality, economic planning prioritizing social welfare, social welfare programs for basic needs, emphasis on workers' rights, reduction of class distinctions, and international solidarity. The AI further elaborates that socialism promotes cooperation among workers and nations for social justice on a global scale and invites further questions on the topic. The human then asks how Socialism differs from Democracy, to which the AI responds that while they can coexist, they are fundamentally different concepts. Democracy refers to a government system where power is vested in the people through voting and emphasizes individual rights and political freedoms. In contrast, Socialism focuses on economic systems and collective ownership aimed at reducing inequality and providing for the common good, which may involve government intervention. The AI notes that they can work together, as seen in countries with democratic socialism, and offers to explain more about their coexistence. \""
      ]
     },
     "execution_count": 26,
     "metadata": {},
     "output_type": "execute_result"
    }
   ],
   "source": [
    "memory_csm.buffer"
   ]
  },
  {
   "cell_type": "markdown",
   "id": "37fe954a",
   "metadata": {},
   "source": [
    "### Converstion Buffer Token Memory"
   ]
  },
  {
   "cell_type": "code",
   "execution_count": 29,
   "id": "f668a907",
   "metadata": {},
   "outputs": [],
   "source": [
    "memory_ctbm = ConversationTokenBufferMemory(llm=llm)\n",
    "\n",
    "convo_ctbm = ConversationChain(\n",
    "    llm = llm, \n",
    "    memory = memory_ctbm,\n",
    "    verbose = True\n",
    ")"
   ]
  },
  {
   "cell_type": "code",
   "execution_count": 30,
   "id": "3e59e1b7",
   "metadata": {},
   "outputs": [
    {
     "name": "stdout",
     "output_type": "stream",
     "text": [
      "\n",
      "\n",
      "\u001b[1m> Entering new ConversationChain chain...\u001b[0m\n",
      "Prompt after formatting:\n",
      "\u001b[32;1m\u001b[1;3mThe following is a friendly conversation between a human and an AI. The AI is talkative and provides lots of specific details from its context. If the AI does not know the answer to a question, it truthfully says it does not know.\n",
      "\n",
      "Current conversation:\n",
      "\n",
      "Human: How are the factors affecting crude oil prices?\n",
      "AI:\u001b[0m\n",
      "\n",
      "\u001b[1m> Finished chain.\u001b[0m\n"
     ]
    },
    {
     "data": {
      "text/plain": [
       "' There are several key factors that affect crude oil prices, and they can be quite complex. Firstly, supply and demand dynamics play a significant role. When demand for crude oil increases, prices tend to rise, and when supply increases without a corresponding increase in demand, prices often fall. \\n\\nAnother important factor is geopolitical events. For instance, conflicts in oil-producing regions, such as the Middle East, can disrupt supply and lead to price spikes. Additionally, decisions made by the Organization of the Petroleum Exporting Countries (OPEC) regarding production levels can also have a major impact on prices. \\n\\nEconomic indicators, such as GDP growth rates, can also influence demand for oil. A growing economy typically leads to higher energy consumption, which in turn can drive up prices. Conversely, a slowing economy may result in reduced demand and lower prices.\\n\\nLastly, external factors such as currency fluctuations, inventory levels, and changes in regulations can also affect crude oil prices. For example, if the U.S. dollar strengthens, it can make oil more expensive for buyers using other currencies, potentially reducing demand.\\n\\nOverall, the interplay between these factors can create volatility in the market, making it challenging to predict future prices accurately. Would you like to know more about a specific factor?'"
      ]
     },
     "execution_count": 30,
     "metadata": {},
     "output_type": "execute_result"
    }
   ],
   "source": [
    "convo_ctbm.predict(input = \"How are the factors affecting crude oil prices?\")"
   ]
  },
  {
   "cell_type": "code",
   "execution_count": 31,
   "id": "7230011a",
   "metadata": {},
   "outputs": [
    {
     "name": "stdout",
     "output_type": "stream",
     "text": [
      "\n",
      "\n",
      "\u001b[1m> Entering new ConversationChain chain...\u001b[0m\n",
      "Prompt after formatting:\n",
      "\u001b[32;1m\u001b[1;3mThe following is a friendly conversation between a human and an AI. The AI is talkative and provides lots of specific details from its context. If the AI does not know the answer to a question, it truthfully says it does not know.\n",
      "\n",
      "Current conversation:\n",
      "Human: How are the factors affecting crude oil prices?\n",
      "AI:  There are several key factors that affect crude oil prices, and they can be quite complex. Firstly, supply and demand dynamics play a significant role. When demand for crude oil increases, prices tend to rise, and when supply increases without a corresponding increase in demand, prices often fall. \n",
      "\n",
      "Another important factor is geopolitical events. For instance, conflicts in oil-producing regions, such as the Middle East, can disrupt supply and lead to price spikes. Additionally, decisions made by the Organization of the Petroleum Exporting Countries (OPEC) regarding production levels can also have a major impact on prices. \n",
      "\n",
      "Economic indicators, such as GDP growth rates, can also influence demand for oil. A growing economy typically leads to higher energy consumption, which in turn can drive up prices. Conversely, a slowing economy may result in reduced demand and lower prices.\n",
      "\n",
      "Lastly, external factors such as currency fluctuations, inventory levels, and changes in regulations can also affect crude oil prices. For example, if the U.S. dollar strengthens, it can make oil more expensive for buyers using other currencies, potentially reducing demand.\n",
      "\n",
      "Overall, the interplay between these factors can create volatility in the market, making it challenging to predict future prices accurately. Would you like to know more about a specific factor?\n",
      "Human: How do geopolitics affect these prices?\n",
      "AI:\u001b[0m\n",
      "\n",
      "\u001b[1m> Finished chain.\u001b[0m\n"
     ]
    },
    {
     "data": {
      "text/plain": [
       "' Geopolitics significantly impacts crude oil prices through a variety of mechanisms. One of the most prominent ways is through the stability of oil-producing regions. For example, if there is political unrest or conflict in a major oil-producing country—like Iraq, Libya, or Venezuela—this can lead to concerns about supply disruptions. Such concerns can drive prices higher as traders anticipate potential shortages.\\n\\nAnother aspect is the influence of sanctions. When countries impose sanctions on oil-producing nations—like the U.S. sanctions on Iran—it can restrict their ability to export oil, reducing global supply and consequently pushing prices up. Conversely, if sanctions are lifted, it can lead to an increase in supply and a drop in prices.\\n\\nAdditionally, the role of OPEC and its member countries is crucial. OPEC often collaborates to set production levels to stabilize or influence oil prices. For instance, if OPEC decides to cut production to support prices during a downturn, this can lead to price increases.\\n\\nFurthermore, international relations can also have an impact. For example, if there is an escalation in tensions between the U.S. and a major oil supplier, this can create uncertainty in the market and lead to price fluctuations.\\n\\nOverall, the complex interplay of these geopolitical factors can create significant volatility in crude oil prices,'"
      ]
     },
     "execution_count": 31,
     "metadata": {},
     "output_type": "execute_result"
    }
   ],
   "source": [
    "convo_ctbm.predict(input= \"How do geopolitics affect these prices?\")"
   ]
  },
  {
   "cell_type": "code",
   "execution_count": 32,
   "id": "44696570",
   "metadata": {},
   "outputs": [
    {
     "data": {
      "text/plain": [
       "'Human: How are the factors affecting crude oil prices?\\nAI:  There are several key factors that affect crude oil prices, and they can be quite complex. Firstly, supply and demand dynamics play a significant role. When demand for crude oil increases, prices tend to rise, and when supply increases without a corresponding increase in demand, prices often fall. \\n\\nAnother important factor is geopolitical events. For instance, conflicts in oil-producing regions, such as the Middle East, can disrupt supply and lead to price spikes. Additionally, decisions made by the Organization of the Petroleum Exporting Countries (OPEC) regarding production levels can also have a major impact on prices. \\n\\nEconomic indicators, such as GDP growth rates, can also influence demand for oil. A growing economy typically leads to higher energy consumption, which in turn can drive up prices. Conversely, a slowing economy may result in reduced demand and lower prices.\\n\\nLastly, external factors such as currency fluctuations, inventory levels, and changes in regulations can also affect crude oil prices. For example, if the U.S. dollar strengthens, it can make oil more expensive for buyers using other currencies, potentially reducing demand.\\n\\nOverall, the interplay between these factors can create volatility in the market, making it challenging to predict future prices accurately. Would you like to know more about a specific factor?\\nHuman: How do geopolitics affect these prices?\\nAI:  Geopolitics significantly impacts crude oil prices through a variety of mechanisms. One of the most prominent ways is through the stability of oil-producing regions. For example, if there is political unrest or conflict in a major oil-producing country—like Iraq, Libya, or Venezuela—this can lead to concerns about supply disruptions. Such concerns can drive prices higher as traders anticipate potential shortages.\\n\\nAnother aspect is the influence of sanctions. When countries impose sanctions on oil-producing nations—like the U.S. sanctions on Iran—it can restrict their ability to export oil, reducing global supply and consequently pushing prices up. Conversely, if sanctions are lifted, it can lead to an increase in supply and a drop in prices.\\n\\nAdditionally, the role of OPEC and its member countries is crucial. OPEC often collaborates to set production levels to stabilize or influence oil prices. For instance, if OPEC decides to cut production to support prices during a downturn, this can lead to price increases.\\n\\nFurthermore, international relations can also have an impact. For example, if there is an escalation in tensions between the U.S. and a major oil supplier, this can create uncertainty in the market and lead to price fluctuations.\\n\\nOverall, the complex interplay of these geopolitical factors can create significant volatility in crude oil prices,'"
      ]
     },
     "execution_count": 32,
     "metadata": {},
     "output_type": "execute_result"
    }
   ],
   "source": [
    "memory_ctbm.buffer"
   ]
  },
  {
   "cell_type": "code",
   "execution_count": null,
   "id": "cd71528e",
   "metadata": {},
   "outputs": [],
   "source": []
  }
 ],
 "metadata": {
  "kernelspec": {
   "display_name": "Python 3",
   "language": "python",
   "name": "python3"
  },
  "language_info": {
   "codemirror_mode": {
    "name": "ipython",
    "version": 3
   },
   "file_extension": ".py",
   "mimetype": "text/x-python",
   "name": "python",
   "nbconvert_exporter": "python",
   "pygments_lexer": "ipython3",
   "version": "3.12.4"
  }
 },
 "nbformat": 4,
 "nbformat_minor": 5
}
