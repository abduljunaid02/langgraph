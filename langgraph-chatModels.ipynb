{
 "cells": [
  {
   "cell_type": "code",
   "execution_count": null,
   "id": "2d73d40e",
   "metadata": {},
   "outputs": [
    {
     "data": {
      "text/plain": [
       "AIMessage(content='The question of whether socialism is \"worth it\" is complex and subjective, depending on personal values, beliefs, and societal context. Here are some points to consider from various perspectives:\\n\\n### Pros of Socialism:\\n1. **Economic Equality**: Socialism aims to reduce income inequality by redistributing wealth and providing essential services (like healthcare, education, and housing) as a right, potentially leading to a more equitable society.\\n  \\n2. **Universal Healthcare and Education**: Many socialist models emphasize access to basic services for all, which can improve overall quality of life and promote public health.\\n\\n3. **Worker Rights**: Socialism often emphasizes labor rights and can lead to better working conditions, fair wages, and stronger protections for workers.\\n\\n4. **Social Safety Nets**: Programs to support the unemployed, the elderly, and low-income families can help reduce poverty and increase social stability.\\n\\n5. **Focus on Community**: Socialism may encourage community-focused initiatives and cooperative businesses, fostering collaboration and local empowerment.\\n\\n### Cons of Socialism:\\n1. **Economic Efficiency**: Critics argue that socialist economies may lack the incentives for efficiency and innovation found in capitalist systems, potentially leading to stagnation.\\n\\n2. **Government Control**: Greater state control over the economy can lead to bureaucracy and inefficiencies, and in some cases, authoritarianism if power becomes concentrated.\\n\\n3. **Tax Burden**: Funding comprehensive social programs typically requires high taxation, which some argue can discourage personal initiative and wealth creation.\\n\\n4. **Limited Choices**: A more centralized economy might limit personal choices in goods and services compared to a market-based system.\\n\\n5. **Implementation Challenges**: Historical examples of socialist policies have often faced challenges and mixed results, with some nations experiencing negative outcomes.\\n\\n### Conclusion:\\nWhether socialism is \"worth it\" depends on individual perspectives on issues like equality, personal freedom, and economic efficiency. There are different interpretations and implementations of socialism, and the effectiveness of these can vary significantly based on cultural, economic, and political contexts. Advocates argue for potential benefits in reducing inequality and providing services, while detractors raise concerns about efficiency, government control, and individual freedoms. Each society must weigh these factors based on its values and circumstances.', additional_kwargs={'refusal': None}, response_metadata={'token_usage': {'completion_tokens': 448, 'prompt_tokens': 14, 'total_tokens': 462, 'completion_tokens_details': {'accepted_prediction_tokens': 0, 'audio_tokens': 0, 'reasoning_tokens': 0, 'rejected_prediction_tokens': 0}, 'prompt_tokens_details': {'audio_tokens': 0, 'cached_tokens': 0}}, 'model_name': 'gpt-4o-mini-2024-07-18', 'system_fingerprint': 'fp_560af6e559', 'id': 'chatcmpl-CJKX8YJRomGluE4WhmqWzjgOcKr0f', 'service_tier': 'default', 'finish_reason': 'stop', 'logprobs': None}, id='run--78f342e1-0b88-4689-9597-2cc18de763cb-0', usage_metadata={'input_tokens': 14, 'output_tokens': 448, 'total_tokens': 462, 'input_token_details': {'audio': 0, 'cache_read': 0}, 'output_token_details': {'audio': 0, 'reasoning': 0}})"
      ]
     },
     "execution_count": 3,
     "metadata": {},
     "output_type": "execute_result"
    }
   ],
   "source": [
    "from langchain.chat_models import init_chat_model\n",
    "\n",
    "import os\n",
    "os.environ[\"OPENAI_API_KEY\"] = \"sk-\"\n",
    "llm = init_chat_model(\"openai:gpt-4o-mini\")\n",
    "\n",
    "llm.invoke(\"Is Socialism really worth it?\")"
   ]
  },
  {
   "cell_type": "code",
   "execution_count": 8,
   "id": "cdac1802",
   "metadata": {},
   "outputs": [
    {
     "name": "stdout",
     "output_type": "stream",
     "text": [
      "AI-Assistant The capital of Germany is Berlin.\n",
      "AI-Assistant The most famous building in Berlin is the Brandenburg Gate.\n"
     ]
    }
   ],
   "source": [
    "from langchain_core.messages import HumanMessage, AIMessage, SystemMessage\n",
    "\n",
    "#messages = [SystemMessage  = (\"Answer in One Line Only\")]\n",
    "messages = [\n",
    "    SystemMessage(\"Give answers in one line only\")\n",
    "]\n",
    "\n",
    "while True:\n",
    "    user_input = input(\"Enter your query: \")\n",
    "    if user_input in [\"bye\", \"quit\", \"clear\", \"exit\"]:\n",
    "        break\n",
    "    else:\n",
    "        messages.append(HumanMessage(user_input))\n",
    "        response = llm.invoke(messages)\n",
    "        print(\"AI-Assistant\", response.content)\n",
    "        messages.append(AIMessage(response.content))\n",
    "\n"
   ]
  },
  {
   "cell_type": "code",
   "execution_count": null,
   "id": "367e2805",
   "metadata": {},
   "outputs": [],
   "source": []
  }
 ],
 "metadata": {
  "kernelspec": {
   "display_name": "Python 3",
   "language": "python",
   "name": "python3"
  },
  "language_info": {
   "codemirror_mode": {
    "name": "ipython",
    "version": 3
   },
   "file_extension": ".py",
   "mimetype": "text/x-python",
   "name": "python",
   "nbconvert_exporter": "python",
   "pygments_lexer": "ipython3",
   "version": "3.12.4"
  }
 },
 "nbformat": 4,
 "nbformat_minor": 5
}
